{
 "cells": [
  {
   "cell_type": "markdown",
   "id": "b8bbe053",
   "metadata": {},
   "source": [
    "<h2 style=\"text-align: center;\">CENG222</h2>\n",
    "<h3 style=\"text-align: center;\">Probability and Statistics</h3>\n",
    "<h3 style=\"text-align: center;\">Term Project for 2022-2023 Spring</h3>"
   ]
  },
  {
   "cell_type": "markdown",
   "id": "ffa631a2",
   "metadata": {},
   "source": [
    "### DUE DATE: 26.06.2023 - 23:59\n",
    "\n",
    "<u>IMPORTANT NOTES:</u>\n",
    "1. A lecture on Python, NumPy, and Pyplot focusing on this term project will be given next week. Notes from that lecture will also be available for you.\n",
    "2. This is **NOT** a group activity. You can discuss some points with your friends, but each student will submit and be graded **individually**. If you want to be safe rather than sorry, you should consult with the **course assistants** as your primary and with the **instructor** as your secondary source of knowledge.\n",
    "3. The Jupyter Notebook scripts and the reports will be processed manually and automatically to detect plagiarism and cheating. Again: You should be careful about the level of cooperation with your friends. In case of cheating, all parties will be punished equally.\n",
    "4. Your Jupyter Notebook script should be named **studentid.ipynb (not .py!)**, and your report **studentid.pdf.**\n",
    "5. If your report is hand-written, the responsibility is yours to make it as legible as possible. Illegible parts will not be graded.\n",
    "6. Once the projects are graded, you will receive detailed feedback about your submission. There will be a grace period for your objections.\n",
    "\n",
    "<u>NOTES on Jupyter Notebook</u>\n",
    "1. You can use additional cells to implement your code.\n",
    "2. Don't forget to import necessary libraries.\n",
    "3. **IMPORTANT** When you are submiting your work, you must upload as an **.ipynb** file. So, if you are using Google Colab, you should download your code as Jupyter Notebook **.ipynb** file."
   ]
  },
  {
   "cell_type": "markdown",
   "id": "7f0e34e1",
   "metadata": {},
   "source": [
    "### In this project,\n",
    "\n",
    "you will analyze the relationship between five random variables in a healthcare context: exercise frequency (**A**), caloric intake (**B**), patient category (**C**), cholesterol level (**D**), blood pressure (**E**), and Hemoglobin A1c (HbA1c) level (**H**). For this analysis, you will first implement algorithms to generate those variables and create a population. Then by sampling from this population, you will analyze their statistics, estimate different distribution parameters, compute confidence intervals, test a hypothesis, and automatically classify patients into patient categories by looking at their D, E, and H values.\n",
    "<br>\n",
    "<br>\n",
    "You will also produce relevant plots for each step to help you understand and interpret the exercises and check your results. In the meantime, you will calculate or derive estimators for the unknown distribution parameters required for implementations.\n",
    "<br>\n",
    "<br>\n",
    "In conclusion, your project submission will be in two folds: the implementation part for which a single **Python (Jupyter)** script is expected and the reporting part for which a **PDF** file is expected. The project is broken down into many small steps, and if it is in the implementation part, a step is marked with <span style=\"color:red\">**red**</span> and otherwise with <span style=\"color:blue\">**blue**</span>. Only 3 packages are required for implementation: **numpy**, **sympy**, and **pyplot**."
   ]
  },
  {
   "cell_type": "markdown",
   "id": "81dcaf26",
   "metadata": {},
   "source": [
    "### The random variables' details, distiributions, and relations are in the PDF document. Please use those when writing your code."
   ]
  },
  {
   "cell_type": "code",
   "execution_count": 1,
   "id": "31053dd2",
   "metadata": {},
   "outputs": [
    {
     "name": "stdout",
     "output_type": "stream",
     "text": [
      "slm\n"
     ]
    }
   ],
   "source": [
    "import numpy as np\n",
    "import sympy as sp\n",
    "from matplotlib import pyplot as plt\n",
    "\n",
    "## You can import additional libraries if you think you need\n",
    "print(\"slm\")\n",
    "np.set_printoptions(precision=3, suppress=True)"
   ]
  },
  {
   "cell_type": "markdown",
   "id": "b30995e7",
   "metadata": {},
   "source": [
    "### TASK 1: Generating the population\n",
    "<br>\n",
    "<br>\n",
    "Your first task is to generate synthetic patient data.\n",
    "<br>\n",
    "<br>\n",
    "Firstly, you must calculate the unknown distribution parameters and implement the generator functions. You are <u><b>advised</b></u> to use online equation solvers or integral calculators such as Wolfram Alpha or Symbolab in your calculations. Just <u><b>do not forget</b></u> to include each step in detail in your report. In your implementations, you are <u><b>not allowed</b></u> to use any number generator function other than <u><b><span style=\"color:green\">numpy.random.random</span></b></u> unless stated otherwise.\n",
    "<br>\n",
    "<br>\n",
    "Next, you must generate the population data for each random variable using its generator function. To have a better insight into the population and check if you have implemented everything correctly, you should plot the population histograms and probability mass/density functions (PMF/PDF).\n",
    "<br>\n",
    "<br>\n",
    "Here are the detailed steps:"
   ]
  },
  {
   "cell_type": "markdown",
   "id": "38290659",
   "metadata": {},
   "source": [
    "<span style=\"color:red\">**1**</span>. Implement a function (**pmf_a**) to compute the PMF of A."
   ]
  },
  {
   "cell_type": "code",
   "execution_count": 2,
   "id": "0fada461",
   "metadata": {},
   "outputs": [
    {
     "name": "stdout",
     "output_type": "stream",
     "text": [
      "0.5\n"
     ]
    }
   ],
   "source": [
    "def pmf_a(a):\n",
    "    return 0.5**(a+1)\n",
    "    ## write your code here\n",
    "    \n",
    "print(pmf_a(0))\n",
    "\n",
    "\n"
   ]
  },
  {
   "cell_type": "code",
   "execution_count": 3,
   "id": "8be64baf",
   "metadata": {},
   "outputs": [
    {
     "data": {
      "text/plain": [
       "<matplotlib.legend.Legend at 0x1a8034f9640>"
      ]
     },
     "execution_count": 3,
     "metadata": {},
     "output_type": "execute_result"
    },
    {
     "data": {
      "image/png": "[encoded data removed]",
      "text/plain": [
       "<Figure size 432x288 with 1 Axes>"
      ]
     },
     "metadata": {
      "needs_background": "light"
     },
     "output_type": "display_data"
    }
   ],
   "source": [
    "x = np.linspace(0,10,11)\n",
    "y = pmf_a(x)\n",
    "plt.figure()\n",
    "y= y.tolist()\n",
    "plt.plot(x,y, \"ob\", label = 'pmf_a')\n",
    "plt.xlabel(\"x\")\n",
    "plt.ylabel(\"y\")\n",
    "plt.legend()"
   ]
  },
  {
   "cell_type": "markdown",
   "id": "77fa6120",
   "metadata": {},
   "source": [
    "<span style=\"color:blue\">**2**</span>. Looking at the PMF of A, comment on which distribution family it looks like. Let’s say a random variable X is from that distribution family; how can you define A in terms of X?"
   ]
  },
  {
   "cell_type": "code",
   "execution_count": 4,
   "id": "a164a39c",
   "metadata": {},
   "outputs": [],
   "source": [
    "## Answer it in your report!"
   ]
  },
  {
   "cell_type": "markdown",
   "id": "6c9511c7",
   "metadata": {},
   "source": [
    "<span style=\"color:red\">**3**</span>. <u><b>Using your findings in step 2</b></u>, implement a function (**generate_a**) to generate A."
   ]
  },
  {
   "cell_type": "code",
   "execution_count": 5,
   "id": "c70ff8a2",
   "metadata": {},
   "outputs": [
    {
     "name": "stdout",
     "output_type": "stream",
     "text": [
      "0\n"
     ]
    },
    {
     "data": {
      "text/plain": [
       "<Figure size 432x288 with 0 Axes>"
      ]
     },
     "metadata": {},
     "output_type": "display_data"
    }
   ],
   "source": [
    "p = 0.5\n",
    "def generate_a():\n",
    "    #A = []\n",
    "    \n",
    "    for i in range(10000):\n",
    "        a = 0\n",
    "        u = np.random.random()\n",
    "        while not u < p:\n",
    "            u = np.random.random()\n",
    "            a +=1\n",
    "        \n",
    "            \n",
    "        \n",
    "        \n",
    "    \n",
    "        return a\n",
    "  \n",
    "\n",
    "plt.figure()\n",
    "print(generate_a())\n"
   ]
  },
  {
   "cell_type": "markdown",
   "id": "221a3418",
   "metadata": {},
   "source": [
    "<span style=\"color:blue\">**4**</span>. For B, find the values of x, y, z, and t."
   ]
  },
  {
   "cell_type": "code",
   "execution_count": 6,
   "id": "fc71dea2",
   "metadata": {},
   "outputs": [],
   "source": [
    "## Answer it in your report!"
   ]
  },
  {
   "cell_type": "markdown",
   "id": "38ccfa4b",
   "metadata": {},
   "source": [
    "<span style=\"color:red\">**5**</span>. Implement a function (**pdf_b**) to compute the PDF of B."
   ]
  },
  {
   "cell_type": "code",
   "execution_count": 7,
   "id": "7c8ca35b",
   "metadata": {},
   "outputs": [
    {
     "name": "stdout",
     "output_type": "stream",
     "text": [
      "slm\n"
     ]
    }
   ],
   "source": [
    "print(\"slm\")\n",
    "def pdf_b(b):\n",
    "    if(b>= 0.5 and b <= 2.5):\n",
    "        result = -0.096*b**3 + 0.432*b**2  - 0.352*b + 0.08\n",
    "    elif(b > 2.5 and b <= 5.5 ):\n",
    "        result = (-2*b + 11)/15\n",
    "    \n",
    "    else:\n",
    "        result = 0\n",
    "    \n",
    "    return result\n",
    "    \n",
    "\n"
   ]
  },
  {
   "cell_type": "markdown",
   "id": "200e6e03",
   "metadata": {},
   "source": [
    "<span style=\"color:red\">**6**</span>. Implement a function (**generate_b**) to generate B <u><b>using the rejection method.</b></u>"
   ]
  },
  {
   "cell_type": "code",
   "execution_count": 8,
   "id": "88387dcc",
   "metadata": {},
   "outputs": [
    {
     "name": "stdout",
     "output_type": "stream",
     "text": [
      "2.8909024627678708\n"
     ]
    },
    {
     "data": {
      "image/png": "[encoded data removed]",
      "text/plain": [
       "<Figure size 432x288 with 1 Axes>"
      ]
     },
     "metadata": {
      "needs_background": "light"
     },
     "output_type": "display_data"
    }
   ],
   "source": [
    "\n",
    "Fx = []\n",
    "indices = []\n",
    "for i in range(-500, 1500):\n",
    "    Fx.append(pdf_b(i/100))\n",
    "    indices.append(i/100) \n",
    "    \n",
    "    \n",
    "plt.figure()\n",
    "plt.title(\"pdf of b\")\n",
    "plt.plot(indices, Fx) #draws pdf of b\n",
    "\n",
    "def generate_b():\n",
    "    #X = []\n",
    "    c = 0.6\n",
    "    a = -3\n",
    "    b = 8\n",
    "    j = 0\n",
    "    while j < 10: #burda j sayısını yükseltebiliriz sıkıntı yaparsa ne ise yarıyodu bu unuttum\n",
    "        u = np.random.random()\n",
    "        v = np.random.random()\n",
    "        x = (b - a) * u + a\n",
    "        y = c * v\n",
    "        if(y < pdf_b(x)):\n",
    "            #X.append(x)\n",
    "            j+=1\n",
    "    \n",
    "    #return X\n",
    "    return x\n",
    "#B= generate_b()\n",
    "print(generate_b())\n"
   ]
  },
  {
   "cell_type": "markdown",
   "id": "557aaceb",
   "metadata": {},
   "source": [
    "<span style=\"color:red\">**7**</span>. Implement a function (**calculate_c**) to calculate C using generated A and B values. You can\n",
    "enumerate C if you like."
   ]
  },
  {
   "cell_type": "code",
   "execution_count": 9,
   "id": "79aa555e",
   "metadata": {},
   "outputs": [
    {
     "name": "stdout",
     "output_type": "stream",
     "text": [
      "risky\n"
     ]
    }
   ],
   "source": [
    "\n",
    "def calculate_c(a, b):\n",
    "    C = []\n",
    "    c = \"\"\n",
    "    for i in range(10000):\n",
    "        if (a <= 2 and b <= 3):\n",
    "            c = \"risky\"\n",
    "            C.append(\"risky\")\n",
    "        elif(a <= 2 and b <=5.5 and b > 3):\n",
    "            c = \"very-risky\"\n",
    "            C.append(\"very-risky\")\n",
    "        elif(a > 2 and b <= 3):\n",
    "            c = \"not-risky\"\n",
    "            C.append(\"not-risky\")\n",
    "        elif(a > 2 and b > 3 and b <= 5.5):\n",
    "            c = \"risky\"\n",
    "            C.append(\"risky\")\n",
    "        \n",
    "        else:\n",
    "            c = \"nan\"\n",
    "        \n",
    "        i+=1\n",
    "        \n",
    "        \n",
    "    return c\n",
    "    \n",
    "\n",
    "print(calculate_c(generate_a(), generate_b()))\n",
    "#C =np.array(calculate_c(A,B))\n",
    "\n",
    "categories = [\"risky\", \"not-risky\", \"very-risky\"]\n",
    "\n",
    "    "
   ]
  },
  {
   "cell_type": "markdown",
   "id": "cee9987c",
   "metadata": {},
   "source": [
    "<span style=\"color:red\">**8**</span>. Implement a function (**pdf_d**) to compute the PDF of D."
   ]
  },
  {
   "cell_type": "code",
   "execution_count": 10,
   "id": "03dbe649",
   "metadata": {},
   "outputs": [
    {
     "name": "stdout",
     "output_type": "stream",
     "text": [
      "0.004839414490382867\n"
     ]
    }
   ],
   "source": [
    "import math \n",
    "def pdf_d(d, mu, sigma):\n",
    "    fx = 1/(sigma * math.sqrt(2 * np.pi)) * np.e **((-(d - mu)**2)/(2 * sigma ** 2))\n",
    "    return fx\n",
    "    ## write your code here\n",
    "\n",
    "    \n",
    "\n",
    "x = pdf_d(290,240,50)\n",
    "y = pdf_d(300,240,50)\n",
    "print(x)"
   ]
  },
  {
   "cell_type": "markdown",
   "id": "fe52f09d",
   "metadata": {},
   "source": [
    "<span style=\"color:red\">**9**</span>. Implement a function (**generate_d**) to generate D for the calculated C values <u><b>using NumPy’s\n",
    "    normal distribution function: <span style=\"color:green\">numpy.random.normal.</span></b></u>"
   ]
  },
  {
   "cell_type": "code",
   "execution_count": 11,
   "id": "bee764e2",
   "metadata": {},
   "outputs": [],
   "source": [
    "#print(C.size)\n",
    "D = []\n",
    "\n",
    "def generate_d(c):\n",
    "    d = 0\n",
    "    if c == \"very-risky\":\n",
    "        d = np.random.normal(240, 50)\n",
    "        #D.append(d)\n",
    "    \n",
    "    elif c == \"risky\":\n",
    "        d = np.random.normal(200, 70)\n",
    "        #D.append(d)\n",
    "    ## write your code here\n",
    "    elif c == \"not-risky\":\n",
    "        d = np.random.normal(160, 30)\n",
    "        #D.append(d)\n",
    "    \n",
    "    return d\n",
    "\n"
   ]
  },
  {
   "cell_type": "markdown",
   "id": "8f27ba28",
   "metadata": {},
   "source": [
    "<span style=\"color:blue\">**10**</span>. Calculate the PDF of E."
   ]
  },
  {
   "cell_type": "markdown",
   "id": "f9f03cb7",
   "metadata": {},
   "source": [
    "### Answer it in your report."
   ]
  },
  {
   "cell_type": "markdown",
   "id": "06267ab8",
   "metadata": {},
   "source": [
    "<span style=\"color:red\">**11**</span>. Implement a function (**pdf_e**) to compute the PDF of E."
   ]
  },
  {
   "cell_type": "code",
   "execution_count": 12,
   "id": "9caafb91",
   "metadata": {},
   "outputs": [
    {
     "name": "stdout",
     "output_type": "stream",
     "text": [
      "1.9999999999999998\n"
     ]
    }
   ],
   "source": [
    "import math\n",
    "def pdf_e(e, i, j):\n",
    "    #take derivative\n",
    "    result = 0\n",
    "    if (e >= i + math.sqrt(j) and e <= i + math.sqrt(j + 1)):\n",
    "        result = 2 * (e - i)\n",
    "    \n",
    "    return result\n",
    "    ## write your code here\n",
    "\n",
    "\n",
    "print(pdf_e(1.9, 0.9, 0.2))\n",
    "    "
   ]
  },
  {
   "cell_type": "markdown",
   "id": "8d188d23",
   "metadata": {},
   "source": [
    "<span style=\"color:red\">**12**</span>. Implement a function (**generate_e**) to generate E <u><b>using the inverse transformation method</b></u> and\n",
    "    the calculated C values."
   ]
  },
  {
   "cell_type": "code",
   "execution_count": 13,
   "id": "458faa19",
   "metadata": {},
   "outputs": [
    {
     "name": "stdout",
     "output_type": "stream",
     "text": [
      "1.9732797966776507\n"
     ]
    }
   ],
   "source": [
    "\n",
    "def generate_e(c):\n",
    "    i = np.random.random()\n",
    "    result = 0\n",
    "    if(c == \"very-risky\"):\n",
    "        result = math.sqrt(i + 0.2) + 0.9\n",
    "    elif(c == \"risky\"):\n",
    "        result = math.sqrt(i +  0.5) + 0.5\n",
    "    elif(c == \"not-risky\"):\n",
    "        result = math.sqrt(i + 0.1) + 0.8\n",
    "    \n",
    "    return result\n",
    "\n",
    "print(generate_e(calculate_c(generate_a(), generate_b())))\n",
    "    ## write your code here\n",
    "    "
   ]
  },
  {
   "cell_type": "markdown",
   "id": "96f189cd",
   "metadata": {},
   "source": [
    "<span style=\"color:blue\">**13**</span>. For PDF of H, define the parameter l in terms of k. Rewrite the PDF with a single parameter."
   ]
  },
  {
   "cell_type": "markdown",
   "id": "f11d56be",
   "metadata": {},
   "source": [
    "### Answer it in your report."
   ]
  },
  {
   "cell_type": "markdown",
   "id": "7b7fcca7",
   "metadata": {},
   "source": [
    "<span style=\"color:red\">**14**</span>. Based on step 13, implement a function (**pdf_h**) to compute the PDF of H."
   ]
  },
  {
   "cell_type": "code",
   "execution_count": 14,
   "id": "61998e98",
   "metadata": {},
   "outputs": [],
   "source": [
    "def pdf_h(h, k, l):\n",
    "    fx = 0\n",
    "    if h >= 0 and h <= 1:\n",
    "      fx = k\n",
    "    elif h > 1 and h <= 2:\n",
    "        fx = l\n",
    "    \n",
    "    return fx\n"
   ]
  },
  {
   "cell_type": "markdown",
   "id": "6a48c1e7",
   "metadata": {},
   "source": [
    "<span style=\"color:red\">**15**</span>. Implement a function (**generate_h**) to generate H <u><b>using the rejection method.</b></u>"
   ]
  },
  {
   "cell_type": "code",
   "execution_count": 15,
   "id": "6c2ce06f",
   "metadata": {},
   "outputs": [
    {
     "name": "stdout",
     "output_type": "stream",
     "text": [
      "1.7752386503694275\n"
     ]
    }
   ],
   "source": [
    "#def generate_h(c):\n",
    "\n",
    "def draw_pdf_h(k):\n",
    "    Fx1 = []\n",
    "    indices1 = [] #dodging name clash\n",
    "    for i in range(-500, 1500):\n",
    "        Fx1.append(pdf_h(i/100, k, 1 - k))\n",
    "        indices1.append(i/100)\n",
    "    \n",
    "    plt.figure()\n",
    "    plt.plot(indices1, Fx1)\n",
    "    \n",
    "    \n",
    "\n",
    "\n",
    "def generate_h(c): #take c as categorical probabilty parameter \n",
    "    #X = []\n",
    "    if(c == \"very-risky\"):\n",
    "        k = 0.1\n",
    "    elif c == \"risky\" :\n",
    "        k = 0.4\n",
    "    elif c == \"not-risky\" : \n",
    "        k = 0.7\n",
    "    d = 1\n",
    "    a = -3\n",
    "    b = 5\n",
    "    l = 0\n",
    "    while l < 10:\n",
    "        u = np.random.random()\n",
    "        v = np.random.random()\n",
    "        x = (b - a) * u + a\n",
    "        y = d * v\n",
    "        if(y < pdf_h(x, k, 1-k)):\n",
    "            #X.append(x)\n",
    "            l+=1\n",
    "    \n",
    "    return x\n",
    "\n",
    "#draw_pdf_h(0.1)\n",
    "#H= generate_h(0.1)\n",
    "print(generate_h(\"very-risky\"))\n"
   ]
  },
  {
   "cell_type": "markdown",
   "id": "26016da8",
   "metadata": {},
   "source": [
    "<span style=\"color:red\">**16**</span>. Implement a function (**generate_population**) that takes the number of patients (W) as input and generates and returns a population of size (Wx6) using the functions implemented above.\n",
    "<br>\n",
    "<br>\n",
    "In other words, for W many patients, it should first generate A and B values and then calculate the C values for them. Then based on the patients’ computed C values, it should generate D, E, and H values. Finally, it should also plot the following:\n",
    "* a. In the same figure, plot the population histogram for A and the pmf of A.\n",
    "* b. In the same figure, plot the population histogram for B and the pdf of B.\n",
    "* c. Plot the population histogram for C and print the pmf of C estimated using the\n",
    "generated population.\n",
    "* d. In the same figure, plot the population histogram for D and the joint pdf of D with each\n",
    "possible value of C.\n",
    "* e. In the same figure, plot the population histogram for E and the joint pdf of D with each\n",
    "possible value of C."
   ]
  },
  {
   "cell_type": "code",
   "execution_count": 16,
   "id": "1f655fe7",
   "metadata": {},
   "outputs": [
    {
     "name": "stderr",
     "output_type": "stream",
     "text": [
      "C:\\Users\\ersoy\\AppData\\Local\\Temp/ipykernel_5672/379456007.py:18: UserWarning: color is redundantly defined by the 'color' keyword argument and the fmt string \"ob\" (-> color='b'). The keyword argument will take precedence.\n",
      "  plt.plot(y, \"ob\", label = 'pmf_a', color = \"red\")\n"
     ]
    },
    {
     "data": {
      "image/png": "[encoded data removed]",
      "text/plain": [
       "<Figure size 432x288 with 1 Axes>"
      ]
     },
     "metadata": {
      "needs_background": "light"
     },
     "output_type": "display_data"
    },
    {
     "data": {
      "image/png": "[encoded data removed]",
      "text/plain": [
       "<Figure size 432x288 with 1 Axes>"
      ]
     },
     "metadata": {
      "needs_background": "light"
     },
     "output_type": "display_data"
    },
    {
     "name": "stderr",
     "output_type": "stream",
     "text": [
      "C:\\Users\\ersoy\\AppData\\Local\\Temp/ipykernel_5672/379456007.py:47: UserWarning: color is redundantly defined by the 'color' keyword argument and the fmt string \"ob\" (-> color='b'). The keyword argument will take precedence.\n",
      "  plt.plot(categories, counts,\"ob\", color = \"black\") ## comeback later\n"
     ]
    },
    {
     "data": {
      "image/png": "[encoded data removed]",
      "text/plain": [
       "<Figure size 432x288 with 1 Axes>"
      ]
     },
     "metadata": {
      "needs_background": "light"
     },
     "output_type": "display_data"
    },
    {
     "name": "stdout",
     "output_type": "stream",
     "text": [
      "[[0 1.389787570550494 'risky' 163.22516069617097 1.3651224901910295\n",
      "  1.8081224516749543]\n",
      " [2 3.3260352885055955 'very-risky' 234.3302124173074 1.5368478770192189\n",
      "  1.152865637311156]\n",
      " [5 4.854016184994636 'risky' 310.6080658399651 1.4069020571906155\n",
      "  0.5566246754294273]\n",
      " ...\n",
      " [1 2.259334887549312 'risky' 305.6404116173872 1.6063813341404385\n",
      "  0.5740661058868399]\n",
      " [1 2.9684219175633544 'risky' 257.1291481351274 1.5792729459865809\n",
      "  1.3789905422010866]\n",
      " [0 3.370258534987343 'very-risky' 316.2633195414824 1.3673713638618676\n",
      "  1.1195015300543725]]\n"
     ]
    },
    {
     "data": {
      "image/png": "[encoded data removed]",
      "text/plain": [
       "<Figure size 432x288 with 1 Axes>"
      ]
     },
     "metadata": {
      "needs_background": "light"
     },
     "output_type": "display_data"
    },
    {
     "data": {
      "image/png": "[encoded data removed]",
      "text/plain": [
       "<Figure size 432x288 with 1 Axes>"
      ]
     },
     "metadata": {
      "needs_background": "light"
     },
     "output_type": "display_data"
    },
    {
     "data": {
      "image/png": "[encoded data removed]",
      "text/plain": [
       "<Figure size 432x288 with 1 Axes>"
      ]
     },
     "metadata": {
      "needs_background": "light"
     },
     "output_type": "display_data"
    }
   ],
   "source": [
    "import numpy as np\n",
    "def generate_population(N):\n",
    "    initial_array = np.empty((6, N),dtype= \"object\")\n",
    "    for i in range(N):\n",
    "        initial_array[0, i] = generate_a()\n",
    "        initial_array[1, i] = generate_b()\n",
    "        initial_array[2, i] = calculate_c(initial_array[0, i], initial_array[1, i])\n",
    "        initial_array[3, i] = generate_d(initial_array[2,i])\n",
    "        initial_array[4,i] = generate_e(initial_array[2,i])\n",
    "        initial_array[5, i] = generate_h(initial_array[2, i])\n",
    "    \n",
    "    \n",
    "    x = np.linspace(0,10,11)\n",
    "\n",
    "    y = pmf_a(x)\n",
    "    y= y.tolist()\n",
    "    plt.figure(0)\n",
    "    plt.plot(y, \"ob\", label = 'pmf_a', color = \"red\")\n",
    "    plt.xlabel(\"a\")\n",
    "    plt.ylabel(\"y\")\n",
    "    plt.legend()    \n",
    "    plt.hist(initial_array[0],bins = range(0,21), density = True)\n",
    "\n",
    "\n",
    "\n",
    "    plt.figure(1)\n",
    "    plt.title(\"generated-sample-of-b\")\n",
    "    plt.hist(initial_array[1], bins = np.linspace(-5, 15, 201),density = True, label = 'generated-sample-of-b')\n",
    "    Fx = []\n",
    "    indices = []\n",
    "    for i in range(-500, 1500):\n",
    "        Fx.append(pdf_b(i/100))\n",
    "        indices.append(i/100) \n",
    "\n",
    "    plt.title(\"pdf of b\")\n",
    "    plt.plot(indices, Fx, label = \"pdf_b\", color = \"black\") #draws pdf of b \n",
    "    plt.show()\n",
    "\n",
    "    plt.figure(2)\n",
    "    categories = [\"not-risky\", \"risky\", \"very-risky\"]\n",
    "\n",
    "    # Count the frequency of each category\n",
    "    unique_categories, counts = np.unique(initial_array[2], return_counts=True)\n",
    "    #plt.plot(categories, final_array[2], color = \"black\")\n",
    "    # Plot the frequencies\n",
    "\n",
    "    plt.plot(categories, counts,\"ob\", color = \"black\") ## comeback later\n",
    "    plt.bar(unique_categories, counts)\n",
    "    plt.xlabel('risk-level') \n",
    "    plt.ylabel('Frequency')\n",
    "    plt.title('Frequency of patients')\n",
    "    plt.show()\n",
    "\n",
    "    plt.figure(3)\n",
    "    plt.title(\"generated-sample-of-d\")\n",
    "    plt.hist(initial_array[3], bins = 200, density = True)\n",
    "\n",
    "\n",
    "\n",
    "    Fx1 = []\n",
    "    indices1 = []\n",
    "    Fx2 = []\n",
    "    indices2 = []\n",
    "    Fx3 = []\n",
    "    indices3 = []\n",
    "    for i in range(-5000, 15000):\n",
    "        Fx1.append(pdf_d(i/10,240,50))\n",
    "        indices1.append(i/10)\n",
    "        Fx2.append(pdf_d(i/10,200,70))\n",
    "        indices2.append(i/10)\n",
    "        Fx3.append(pdf_d(i/10,160,30))\n",
    "        indices3.append(i/10) \n",
    "\n",
    "\n",
    "    plt.title(\"pdf of d and histogram of population\")\n",
    "    plt.plot(indices1, Fx1) #draws pdf of b\n",
    "    plt.plot(indices2, Fx2) #draws pdf of b\n",
    "    plt.plot(indices3, Fx3) #draws pdf of b\n",
    "\n",
    "    plt.figure(4)\n",
    "    plt.title(\"generated-sample-of-e-and-pdf-of-e\")\n",
    "    plt.hist(initial_array[4], bins = np.linspace(-5, 15, 201),density = True, label = 'generated-sample-of-e')\n",
    "    Fx4 = []\n",
    "    indices4 = []\n",
    "    Fx5 = []\n",
    "    indices5 = []\n",
    "    Fx6 = []\n",
    "    indices6 = []\n",
    "    for i in range(-500, 1500):\n",
    "        Fx4.append(pdf_e(i/100,0.9,0.2))\n",
    "        indices4.append(i/100)\n",
    "        Fx5.append(pdf_e(i/100,0.5,0.5))\n",
    "        indices5.append(i/100)\n",
    "        Fx6.append(pdf_e(i/100,0.1,0.8))\n",
    "        indices6.append(i/100)\n",
    "\n",
    "    plt.plot(indices4, Fx4) #draws pdf of b\n",
    "    plt.plot(indices5, Fx5) #draws pdf of b\n",
    "    plt.plot(indices6, Fx6) #draws pdf of b\n",
    "\n",
    "    plt.figure(5)\n",
    "    plt.title(\"generetad-sample-of-h-and-pdf-of-h\")\n",
    "    plt.hist(initial_array[5], bins = np.linspace(-5,15,201), density = True)\n",
    "    Fx7 = []\n",
    "    indices7 = [] #dodging name clash\n",
    "    Fx8 = []\n",
    "    indices8 = []\n",
    "    Fx9 = []\n",
    "    indices9 = []\n",
    "    for i in range(-500, 1500):\n",
    "        Fx7.append(pdf_h(i/100, 0.7, 0.3))\n",
    "        indices7.append(i/100)\n",
    "        Fx8.append(pdf_h(i/100, 0.4, 0.6))\n",
    "        indices8.append(i/100)\n",
    "        Fx9.append(pdf_h(i/100, 0.1, 0.9))\n",
    "        indices9.append(i/100)\n",
    "\n",
    "\n",
    "    #plt.plot(indices7, Fx7)\n",
    "    #plt.plot(indices8, Fx8)\n",
    "    #plt.plot(indices9, Fx9)\n",
    "\n",
    "    \n",
    "    initial_array = np.transpose(initial_array)\n",
    "    return initial_array\n",
    "array1=generate_population(10000)\n",
    "print(array1)"
   ]
  },
  {
   "cell_type": "markdown",
   "id": "6ecf8a2b",
   "metadata": {},
   "source": [
    "<span style=\"color:red\">**17**</span>. Generate a population of 1000 patients. It should be a 2D array of shape 1000x6 where the random variables appear in the order of A, B, C, D, E, and H."
   ]
  },
  {
   "cell_type": "code",
   "execution_count": 17,
   "id": "3ef891fa",
   "metadata": {},
   "outputs": [
    {
     "name": "stderr",
     "output_type": "stream",
     "text": [
      "C:\\Users\\ersoy\\AppData\\Local\\Temp/ipykernel_5672/379456007.py:18: UserWarning: color is redundantly defined by the 'color' keyword argument and the fmt string \"ob\" (-> color='b'). The keyword argument will take precedence.\n",
      "  plt.plot(y, \"ob\", label = 'pmf_a', color = \"red\")\n"
     ]
    },
    {
     "data": {
      "image/png": "[encoded data removed]",
      "text/plain": [
       "<Figure size 432x288 with 1 Axes>"
      ]
     },
     "metadata": {
      "needs_background": "light"
     },
     "output_type": "display_data"
    },
    {
     "data": {
      "image/png": "[encoded data removed]",
      "text/plain": [
       "<Figure size 432x288 with 1 Axes>"
      ]
     },
     "metadata": {
      "needs_background": "light"
     },
     "output_type": "display_data"
    },
    {
     "name": "stderr",
     "output_type": "stream",
     "text": [
      "C:\\Users\\ersoy\\AppData\\Local\\Temp/ipykernel_5672/379456007.py:47: UserWarning: color is redundantly defined by the 'color' keyword argument and the fmt string \"ob\" (-> color='b'). The keyword argument will take precedence.\n",
      "  plt.plot(categories, counts,\"ob\", color = \"black\") ## comeback later\n"
     ]
    },
    {
     "data": {
      "image/png": "[encoded data removed]",
      "text/plain": [
       "<Figure size 432x288 with 1 Axes>"
      ]
     },
     "metadata": {
      "needs_background": "light"
     },
     "output_type": "display_data"
    },
    {
     "name": "stdout",
     "output_type": "stream",
     "text": [
      "[[2 4.991245294800145 'very-risky' 128.18105245749246 1.653969184748013\n",
      "  1.2122211466708626]\n",
      " [2 2.310398295764818 'risky' 71.51424431785779 1.64665796135556\n",
      "  1.6183456765355082]\n",
      " [0 3.0130471393858107 'very-risky' 242.49814980788975 1.7798379752767048\n",
      "  1.6016246433457573]\n",
      " ...\n",
      " [1 2.265221483604649 'risky' 242.49942352766567 1.5414442613462824\n",
      "  1.4371244469226792]\n",
      " [1 4.066159245713099 'very-risky' 225.25763595897223 1.5971160057084832\n",
      "  1.6542806952472695]\n",
      " [6 2.2728274089505183 'not-risky' 113.16289528974477 1.7432870893526897\n",
      "  0.5611601506565291]]\n"
     ]
    },
    {
     "data": {
      "image/png": "[encoded data removed]",
      "text/plain": [
       "<Figure size 432x288 with 1 Axes>"
      ]
     },
     "metadata": {
      "needs_background": "light"
     },
     "output_type": "display_data"
    },
    {
     "data": {
      "image/png": "[encoded data removed]",
      "text/plain": [
       "<Figure size 432x288 with 1 Axes>"
      ]
     },
     "metadata": {
      "needs_background": "light"
     },
     "output_type": "display_data"
    },
    {
     "data": {
      "image/png": "[encoded data removed]",
      "text/plain": [
       "<Figure size 432x288 with 1 Axes>"
      ]
     },
     "metadata": {
      "needs_background": "light"
     },
     "output_type": "display_data"
    }
   ],
   "source": [
    "patients_of_1000 = generate_population(1000)\n",
    "print(patients_of_1000)"
   ]
  },
  {
   "cell_type": "markdown",
   "id": "20dcd585",
   "metadata": {},
   "source": [
    "<span style=\"color:red\">**18**</span>. Similar to step 17, generate a population of 1000000 patients. **This will be your hypothetical population to be analyzed in the next tasks.** Compute and print the random variable means and variances for this population using <u><b><span style=\"color:green\">numpy.mean</span></b></u> and <u><b><span style=\"color:green\">numpy.var</span></b></u>"
   ]
  },
  {
   "cell_type": "code",
   "execution_count": 18,
   "id": "863aafa4",
   "metadata": {},
   "outputs": [
    {
     "ename": "KeyboardInterrupt",
     "evalue": "",
     "output_type": "error",
     "traceback": [
      "\u001b[1;31m---------------------------------------------------------------------------\u001b[0m",
      "\u001b[1;31mKeyboardInterrupt\u001b[0m                         Traceback (most recent call last)",
      "\u001b[1;32m~\\AppData\\Local\\Temp/ipykernel_5672/2376000265.py\u001b[0m in \u001b[0;36m<module>\u001b[1;34m\u001b[0m\n\u001b[0;32m      1\u001b[0m \u001b[1;32mimport\u001b[0m \u001b[0mnumpy\u001b[0m \u001b[1;32mas\u001b[0m \u001b[0mnp\u001b[0m\u001b[1;33m\u001b[0m\u001b[1;33m\u001b[0m\u001b[0m\n\u001b[1;32m----> 2\u001b[1;33m \u001b[0mlarge_array\u001b[0m \u001b[1;33m=\u001b[0m \u001b[0mgenerate_population\u001b[0m\u001b[1;33m(\u001b[0m\u001b[1;36m1000000\u001b[0m\u001b[1;33m)\u001b[0m\u001b[1;33m\u001b[0m\u001b[1;33m\u001b[0m\u001b[0m\n\u001b[0m\u001b[0;32m      3\u001b[0m \u001b[0mlarge_array\u001b[0m \u001b[1;33m=\u001b[0m \u001b[0mnp\u001b[0m\u001b[1;33m.\u001b[0m\u001b[0mtranspose\u001b[0m\u001b[1;33m(\u001b[0m\u001b[0mlarge_array\u001b[0m\u001b[1;33m)\u001b[0m\u001b[1;33m\u001b[0m\u001b[1;33m\u001b[0m\u001b[0m\n\u001b[0;32m      4\u001b[0m \u001b[0mA_mean\u001b[0m \u001b[1;33m=\u001b[0m\u001b[0mnp\u001b[0m\u001b[1;33m.\u001b[0m\u001b[0mmean\u001b[0m\u001b[1;33m(\u001b[0m\u001b[0mlarge_array\u001b[0m\u001b[1;33m[\u001b[0m\u001b[1;36m0\u001b[0m\u001b[1;33m]\u001b[0m\u001b[1;33m)\u001b[0m\u001b[1;33m\u001b[0m\u001b[1;33m\u001b[0m\u001b[0m\n\u001b[0;32m      5\u001b[0m \u001b[0mA_variance\u001b[0m \u001b[1;33m=\u001b[0m \u001b[0mnp\u001b[0m\u001b[1;33m.\u001b[0m\u001b[0mvar\u001b[0m\u001b[1;33m(\u001b[0m\u001b[0mlarge_array\u001b[0m\u001b[1;33m[\u001b[0m\u001b[1;36m0\u001b[0m\u001b[1;33m]\u001b[0m\u001b[1;33m)\u001b[0m\u001b[1;33m\u001b[0m\u001b[1;33m\u001b[0m\u001b[0m\n",
      "\u001b[1;32m~\\AppData\\Local\\Temp/ipykernel_5672/379456007.py\u001b[0m in \u001b[0;36mgenerate_population\u001b[1;34m(N)\u001b[0m\n\u001b[0;32m      5\u001b[0m         \u001b[0minitial_array\u001b[0m\u001b[1;33m[\u001b[0m\u001b[1;36m0\u001b[0m\u001b[1;33m,\u001b[0m \u001b[0mi\u001b[0m\u001b[1;33m]\u001b[0m \u001b[1;33m=\u001b[0m \u001b[0mgenerate_a\u001b[0m\u001b[1;33m(\u001b[0m\u001b[1;33m)\u001b[0m\u001b[1;33m\u001b[0m\u001b[1;33m\u001b[0m\u001b[0m\n\u001b[0;32m      6\u001b[0m         \u001b[0minitial_array\u001b[0m\u001b[1;33m[\u001b[0m\u001b[1;36m1\u001b[0m\u001b[1;33m,\u001b[0m \u001b[0mi\u001b[0m\u001b[1;33m]\u001b[0m \u001b[1;33m=\u001b[0m \u001b[0mgenerate_b\u001b[0m\u001b[1;33m(\u001b[0m\u001b[1;33m)\u001b[0m\u001b[1;33m\u001b[0m\u001b[1;33m\u001b[0m\u001b[0m\n\u001b[1;32m----> 7\u001b[1;33m         \u001b[0minitial_array\u001b[0m\u001b[1;33m[\u001b[0m\u001b[1;36m2\u001b[0m\u001b[1;33m,\u001b[0m \u001b[0mi\u001b[0m\u001b[1;33m]\u001b[0m \u001b[1;33m=\u001b[0m \u001b[0mcalculate_c\u001b[0m\u001b[1;33m(\u001b[0m\u001b[0minitial_array\u001b[0m\u001b[1;33m[\u001b[0m\u001b[1;36m0\u001b[0m\u001b[1;33m,\u001b[0m \u001b[0mi\u001b[0m\u001b[1;33m]\u001b[0m\u001b[1;33m,\u001b[0m \u001b[0minitial_array\u001b[0m\u001b[1;33m[\u001b[0m\u001b[1;36m1\u001b[0m\u001b[1;33m,\u001b[0m \u001b[0mi\u001b[0m\u001b[1;33m]\u001b[0m\u001b[1;33m)\u001b[0m\u001b[1;33m\u001b[0m\u001b[1;33m\u001b[0m\u001b[0m\n\u001b[0m\u001b[0;32m      8\u001b[0m         \u001b[0minitial_array\u001b[0m\u001b[1;33m[\u001b[0m\u001b[1;36m3\u001b[0m\u001b[1;33m,\u001b[0m \u001b[0mi\u001b[0m\u001b[1;33m]\u001b[0m \u001b[1;33m=\u001b[0m \u001b[0mgenerate_d\u001b[0m\u001b[1;33m(\u001b[0m\u001b[0minitial_array\u001b[0m\u001b[1;33m[\u001b[0m\u001b[1;36m2\u001b[0m\u001b[1;33m,\u001b[0m\u001b[0mi\u001b[0m\u001b[1;33m]\u001b[0m\u001b[1;33m)\u001b[0m\u001b[1;33m\u001b[0m\u001b[1;33m\u001b[0m\u001b[0m\n\u001b[0;32m      9\u001b[0m         \u001b[0minitial_array\u001b[0m\u001b[1;33m[\u001b[0m\u001b[1;36m4\u001b[0m\u001b[1;33m,\u001b[0m\u001b[0mi\u001b[0m\u001b[1;33m]\u001b[0m \u001b[1;33m=\u001b[0m \u001b[0mgenerate_e\u001b[0m\u001b[1;33m(\u001b[0m\u001b[0minitial_array\u001b[0m\u001b[1;33m[\u001b[0m\u001b[1;36m2\u001b[0m\u001b[1;33m,\u001b[0m\u001b[0mi\u001b[0m\u001b[1;33m]\u001b[0m\u001b[1;33m)\u001b[0m\u001b[1;33m\u001b[0m\u001b[1;33m\u001b[0m\u001b[0m\n",
      "\u001b[1;32m~\\AppData\\Local\\Temp/ipykernel_5672/1602447200.py\u001b[0m in \u001b[0;36mcalculate_c\u001b[1;34m(a, b)\u001b[0m\n\u001b[0;32m      8\u001b[0m         \u001b[1;32melif\u001b[0m\u001b[1;33m(\u001b[0m\u001b[0ma\u001b[0m \u001b[1;33m<=\u001b[0m \u001b[1;36m2\u001b[0m \u001b[1;32mand\u001b[0m \u001b[0mb\u001b[0m \u001b[1;33m<=\u001b[0m\u001b[1;36m5.5\u001b[0m \u001b[1;32mand\u001b[0m \u001b[0mb\u001b[0m \u001b[1;33m>\u001b[0m \u001b[1;36m3\u001b[0m\u001b[1;33m)\u001b[0m\u001b[1;33m:\u001b[0m\u001b[1;33m\u001b[0m\u001b[1;33m\u001b[0m\u001b[0m\n\u001b[0;32m      9\u001b[0m             \u001b[0mc\u001b[0m \u001b[1;33m=\u001b[0m \u001b[1;34m\"very-risky\"\u001b[0m\u001b[1;33m\u001b[0m\u001b[1;33m\u001b[0m\u001b[0m\n\u001b[1;32m---> 10\u001b[1;33m             \u001b[0mC\u001b[0m\u001b[1;33m.\u001b[0m\u001b[0mappend\u001b[0m\u001b[1;33m(\u001b[0m\u001b[1;34m\"very-risky\"\u001b[0m\u001b[1;33m)\u001b[0m\u001b[1;33m\u001b[0m\u001b[1;33m\u001b[0m\u001b[0m\n\u001b[0m\u001b[0;32m     11\u001b[0m         \u001b[1;32melif\u001b[0m\u001b[1;33m(\u001b[0m\u001b[0ma\u001b[0m \u001b[1;33m>\u001b[0m \u001b[1;36m2\u001b[0m \u001b[1;32mand\u001b[0m \u001b[0mb\u001b[0m \u001b[1;33m<=\u001b[0m \u001b[1;36m3\u001b[0m\u001b[1;33m)\u001b[0m\u001b[1;33m:\u001b[0m\u001b[1;33m\u001b[0m\u001b[1;33m\u001b[0m\u001b[0m\n\u001b[0;32m     12\u001b[0m             \u001b[0mc\u001b[0m \u001b[1;33m=\u001b[0m \u001b[1;34m\"not-risky\"\u001b[0m\u001b[1;33m\u001b[0m\u001b[1;33m\u001b[0m\u001b[0m\n",
      "\u001b[1;31mKeyboardInterrupt\u001b[0m: "
     ]
    }
   ],
   "source": [
    "import numpy as np\n",
    "large_array = generate_population(1000000)\n",
    "large_array = np.transpose(large_array)\n",
    "A_mean =np.mean(large_array[0])\n",
    "A_variance = np.var(large_array[0])\n",
    "B_mean =np.mean(large_array[1])\n",
    "B_variance = np.var(large_array[1])\n",
    "#C_mean =np.mean(large_array[2])\n",
    "#C_variance = np.var(large_array[2])\n",
    "D_mean =np.mean(large_array[3])\n",
    "D_variance = np.var(large_array[3])\n",
    "E_mean =np.mean(large_array[4])\n",
    "E_variance = np.var(large_array[4])\n",
    "H_mean =np.mean(large_array[5])\n",
    "H_variance = np.var(large_array[5])\n",
    "print(A_mean, A_variance,B_mean, B_variance,D_mean, D_variance,E_mean, E_variance\n",
    "     ,H_mean, H_variance)"
   ]
  },
  {
   "cell_type": "code",
   "execution_count": 23,
   "id": "c89cba3c",
   "metadata": {},
   "outputs": [
    {
     "name": "stderr",
     "output_type": "stream",
     "text": [
      "C:\\Users\\ersoy\\AppData\\Local\\Temp/ipykernel_5672/379456007.py:18: UserWarning: color is redundantly defined by the 'color' keyword argument and the fmt string \"ob\" (-> color='b'). The keyword argument will take precedence.\n",
      "  plt.plot(y, \"ob\", label = 'pmf_a', color = \"red\")\n"
     ]
    },
    {
     "data": {
      "image/png": "[encoded data removed]",
      "text/plain": [
       "<Figure size 432x288 with 1 Axes>"
      ]
     },
     "metadata": {
      "needs_background": "light"
     },
     "output_type": "display_data"
    },
    {
     "data": {
      "image/png": "[encoded data removed]",
      "text/plain": [
       "<Figure size 432x288 with 1 Axes>"
      ]
     },
     "metadata": {
      "needs_background": "light"
     },
     "output_type": "display_data"
    },
    {
     "name": "stderr",
     "output_type": "stream",
     "text": [
      "C:\\Users\\ersoy\\AppData\\Local\\Temp/ipykernel_5672/379456007.py:47: UserWarning: color is redundantly defined by the 'color' keyword argument and the fmt string \"ob\" (-> color='b'). The keyword argument will take precedence.\n",
      "  plt.plot(categories, counts,\"ob\", color = \"black\") ## comeback later\n"
     ]
    },
    {
     "data": {
      "image/png": "[encoded data removed]",
      "text/plain": [
       "<Figure size 432x288 with 1 Axes>"
      ]
     },
     "metadata": {
      "needs_background": "light"
     },
     "output_type": "display_data"
    },
    {
     "name": "stdout",
     "output_type": "stream",
     "text": [
      "[[0 3.0653397714311774 'very-risky' 334.5459430262492 1.8709926465080509\n",
      "  1.4214313323117507]\n",
      " [2 2.8734761316460906 'risky' 128.67329415765172 1.5744087263053441\n",
      "  1.662556302445033]\n",
      " [0 1.495576511937534 'risky' 203.9613538514256 1.2712839612098779\n",
      "  1.2295282328229193]\n",
      " ...\n",
      " [0 4.505125259205871 'very-risky' 248.0159749782708 1.9200863053235788\n",
      "  1.9119062157704532]\n",
      " [0 1.1351748864747622 'risky' 189.2700705271486 1.2788749560801769\n",
      "  1.0062332072158906]\n",
      " [2 2.2048651534863533 'risky' 167.05598597294383 1.334913383136343\n",
      "  0.6082636314692165]]\n"
     ]
    },
    {
     "data": {
      "image/png": "[encoded data removed]",
      "text/plain": [
       "<Figure size 432x288 with 1 Axes>"
      ]
     },
     "metadata": {
      "needs_background": "light"
     },
     "output_type": "display_data"
    },
    {
     "data": {
      "image/png": "[encoded data removed]",
      "text/plain": [
       "<Figure size 432x288 with 1 Axes>"
      ]
     },
     "metadata": {
      "needs_background": "light"
     },
     "output_type": "display_data"
    },
    {
     "data": {
      "image/png": "[encoded data removed]",
      "text/plain": [
       "<Figure size 432x288 with 1 Axes>"
      ]
     },
     "metadata": {
      "needs_background": "light"
     },
     "output_type": "display_data"
    }
   ],
   "source": [
    "large_array = generate_population(10000)\n",
    "print(large_array)"
   ]
  },
  {
   "cell_type": "code",
   "execution_count": null,
   "id": "523c51df",
   "metadata": {},
   "outputs": [],
   "source": [
    "print(len(large_array))"
   ]
  },
  {
   "cell_type": "code",
   "execution_count": null,
   "id": "dbc2f66b",
   "metadata": {},
   "outputs": [],
   "source": [
    "\n",
    "x = np.linspace(0,10,11)\n",
    "\n",
    "y = pmf_a(x)\n",
    "y= y.tolist()\n",
    "plt.figure(0)\n",
    "plt.plot(y, \"ob\", label = 'pmf_a', color = \"red\")\n",
    "plt.xlabel(\"a\")\n",
    "plt.ylabel(\"y\")\n",
    "plt.legend()    \n",
    "plt.hist(large_array[0],bins = range(0,21), density = True)\n",
    "\n",
    "\n",
    "\n",
    "plt.figure(1)\n",
    "plt.title(\"generated-sample-of-b\")\n",
    "plt.hist(large_array[1], bins = np.linspace(-5, 15, 201),density = True, label = 'generated-sample-of-b')\n",
    "Fx = []\n",
    "indices = []\n",
    "for i in range(-500, 1500):\n",
    "    Fx.append(pdf_b(i/100))\n",
    "    indices.append(i/100) \n",
    "\n",
    "plt.title(\"pdf of b\")\n",
    "plt.plot(indices, Fx, label = \"pdf_b\", color = \"black\") #draws pdf of b \n",
    "plt.show()\n",
    "\n",
    "plt.figure(2)\n",
    "categories = [\"not-risky\", \"risky\", \"very-risky\"]\n",
    "\n",
    "# Count the frequency of each category\n",
    "unique_categories, counts = np.unique(large_array[2], return_counts=True)\n",
    "#plt.plot(categories, final_array[2], color = \"black\")\n",
    "# Plot the frequencies\n",
    "\n",
    "plt.plot(categories, counts,\"ob\", color = \"black\") ## comeback later\n",
    "plt.bar(unique_categories, counts)\n",
    "plt.xlabel('risk-level') \n",
    "plt.ylabel('Frequency')\n",
    "plt.title('Frequency of patients')\n",
    "plt.show()\n",
    "\n",
    "plt.figure(3)\n",
    "plt.title(\"generated-sample-of-d\")\n",
    "plt.hist(large_array[3], bins = 200, density = True)\n",
    "\n",
    "\n",
    "\n",
    "Fx1 = []\n",
    "indices1 = []\n",
    "Fx2 = []\n",
    "indices2 = []\n",
    "Fx3 = []\n",
    "indices3 = []\n",
    "for i in range(-5000, 15000):\n",
    "    Fx1.append(pdf_d(i/10,240,50))\n",
    "    indices1.append(i/10)\n",
    "    Fx2.append(pdf_d(i/10,200,70))\n",
    "    indices2.append(i/10)\n",
    "    Fx3.append(pdf_d(i/10,160,30))\n",
    "    indices3.append(i/10) \n",
    "    \n",
    "\n",
    "plt.title(\"pdf of d and histogram of population\")\n",
    "plt.plot(indices1, Fx1) #draws pdf of b\n",
    "plt.plot(indices2, Fx2) #draws pdf of b\n",
    "plt.plot(indices3, Fx3) #draws pdf of b\n",
    "\n",
    "plt.figure(4)\n",
    "plt.title(\"generated-sample-of-e-and-pdf-of-e\")\n",
    "plt.hist(large_array[4], bins = np.linspace(-5, 15, 201),density = True, label = 'generated-sample-of-e')\n",
    "Fx4 = []\n",
    "indices4 = []\n",
    "Fx5 = []\n",
    "indices5 = []\n",
    "Fx6 = []\n",
    "indices6 = []\n",
    "for i in range(-500, 1500):\n",
    "    Fx4.append(pdf_e(i/100,0.9,0.2))\n",
    "    indices4.append(i/100)\n",
    "    Fx5.append(pdf_e(i/100,0.5,0.5))\n",
    "    indices5.append(i/100)\n",
    "    Fx6.append(pdf_e(i/100,0.1,0.8))\n",
    "    indices6.append(i/100)\n",
    "\n",
    "plt.plot(indices4, Fx4) #draws pdf of b\n",
    "plt.plot(indices5, Fx5) #draws pdf of b\n",
    "plt.plot(indices6, Fx6) #draws pdf of b\n",
    "\n",
    "plt.figure(5)\n",
    "plt.title(\"generetad-sample-of-h-and-pdf-of-h\")\n",
    "plt.hist(large_array[5], bins = np.linspace(-5,15,201), density = True)\n",
    "Fx7 = []\n",
    "indices7 = [] #dodging name clash\n",
    "Fx8 = []\n",
    "indices8 = []\n",
    "Fx9 = []\n",
    "indices9 = []\n",
    "for i in range(-500, 1500):\n",
    "    Fx7.append(pdf_h(i/100, 0.1, 0.9))\n",
    "    indices7.append(i/100)\n",
    "    Fx8.append(pdf_h(i/100, 0.4, 0.6))\n",
    "    indices8.append(i/100)\n",
    "    Fx9.append(pdf_h(i/100, 0.7, 0.3))\n",
    "    indices9.append(i/100)\n",
    "\n",
    "    \n",
    "plt.plot(indices7, Fx7)\n",
    "plt.plot(indices8, Fx8)\n",
    "plt.plot(indices9, Fx9)"
   ]
  },
  {
   "cell_type": "markdown",
   "id": "6a6bceb0",
   "metadata": {},
   "source": [
    "<span style=\"color:blue\">**19**</span>. Copy your figures from steps 17 and 18 into your report so that the two plots for each variable are side by side. You should observe that when the number of generated patients increases, the population statistics converge to the actual PMF/PDF."
   ]
  },
  {
   "cell_type": "markdown",
   "id": "1132f590",
   "metadata": {},
   "source": [
    "### Answer it in your report!"
   ]
  },
  {
   "cell_type": "markdown",
   "id": "f19f030f",
   "metadata": {},
   "source": [
    "### TASK 2: Sampling and Descriptive Statistics\n",
    "<br>\n",
    "<br>\n",
    "Your second task is to take samples from your population and compute and visualize some descriptive statistics for each sample. If you fail to accomplish Task 1, you can load the <u><b>population.txt</b></u> file provided along with this assignment as a NumPy array using <u><b><span style=\"color:green\">numpy.loadtxt.</span></b></u>\n",
    "<br>\n",
    "<br>\n",
    "Firstly, you have to implement the sampler function to take samples from the population. You are <u><b>not allowed</b></u> to use any number generator function other than <u><b><span style=\"color:green\">numpy.random.random</span></b></u>. Next, you must implement estimators for the population mean and variance. You are <u><b>not allowed</b></u> to use <u><b><span style=\"color:green\">numpy.mean</span></b></u>, <u><b><span style=\"color:green\">numpy.std</span></b></u>, or <u><b><span style=\"color:green\">numpy.var</span></b></u> functions. To have a better insight into the performances of these estimators, you should take multiple samples to estimate from and plot the histograms of the estimations with indicators for the actual population mean and variance.\n",
    "<br>\n",
    "<br>\n",
    "Here are the detailed steps:"
   ]
  },
  {
   "cell_type": "markdown",
   "id": "3e505634",
   "metadata": {},
   "source": [
    "<span style=\"color:red\">**1**</span>. Implement a function (**random_sample**) that takes a population and a sample size (n) as inputs and returns a random sample of that population with dimensions of nx6 where the random variables appear in the same order as the population.\n",
    "<br>\n",
    "<br>\n",
    "<u>For the next steps, a column of that population sample (nx1) will be referred to as a <b>sample.</b><u>\n",
    "The first column is a sample of A; the second column is a sample of B, and so on."
   ]
  },
  {
   "cell_type": "code",
   "execution_count": 24,
   "id": "09dc1d87",
   "metadata": {},
   "outputs": [
    {
     "name": "stdout",
     "output_type": "stream",
     "text": [
      "[[0 3.0653397714311774 'very-risky' 334.5459430262492 1.8709926465080509\n",
      "  1.4214313323117507]\n",
      " [2 2.8734761316460906 'risky' 128.67329415765172 1.5744087263053441\n",
      "  1.662556302445033]\n",
      " [0 1.495576511937534 'risky' 203.9613538514256 1.2712839612098779\n",
      "  1.2295282328229193]\n",
      " ...\n",
      " [0 4.505125259205871 'very-risky' 248.0159749782708 1.9200863053235788\n",
      "  1.9119062157704532]\n",
      " [0 1.1351748864747622 'risky' 189.2700705271486 1.2788749560801769\n",
      "  1.0062332072158906]\n",
      " [2 2.2048651534863533 'risky' 167.05598597294383 1.334913383136343\n",
      "  0.6082636314692165]]\n"
     ]
    }
   ],
   "source": [
    "def random_sample(population, sample_size):\n",
    "    sample_array1 = []\n",
    "    \n",
    "    for i in range(sample_size):\n",
    "        number = int(np.round(np.random.random() * 10000))\n",
    "        sample_array1.append(population[number])\n",
    "        #sample_array[1][i] = population[1][number]\n",
    "        #sample_array[2][i] = population[2][number]\n",
    "        #sample_array[3][i] = population[3][number]\n",
    "        #sample_array[4][i] = population[4][number]\n",
    "        #sample_array[5][i] = population[5][number]\n",
    "    \n",
    "    \n",
    "    return sample_array1\n",
    "\n",
    "\n",
    "\n",
    "sample_array = random_sample(large_array, 100)\n",
    "#print(sample_array)\n",
    "print(large_array)\n",
    "#print(sample_array)    ## write your code here\n",
    "    "
   ]
  },
  {
   "cell_type": "code",
   "execution_count": null,
   "id": "1e08c4fa",
   "metadata": {},
   "outputs": [],
   "source": []
  },
  {
   "cell_type": "markdown",
   "id": "279e4465",
   "metadata": {},
   "source": [
    "<span style=\"color:red\">**2**</span>. Implement a function (**estimate_mean**) that estimates the population mean of a variable with\n",
    "its sample mean. It should take a sample and return an estimation for the mean."
   ]
  },
  {
   "cell_type": "code",
   "execution_count": 30,
   "id": "22f33200",
   "metadata": {},
   "outputs": [
    {
     "name": "stdout",
     "output_type": "stream",
     "text": [
      "1.01\n"
     ]
    }
   ],
   "source": [
    "\n",
    "#print(sample_array)\n",
    "\n",
    "\n",
    "def estimate_mean(sample,var):\n",
    "\n",
    "    length_of_sample = len(sample)\n",
    "    sum_of_sample = 0\n",
    "    for i in range(len(sample)):\n",
    "        sum_of_sample += sample[i][var]\n",
    "\n",
    "    mean = sum_of_sample / length_of_sample\n",
    "\n",
    "    return mean\n",
    "\n",
    "a = random_sample(large_array,100)\n",
    "print(estimate_mean(a,0))"
   ]
  },
  {
   "cell_type": "markdown",
   "id": "d2111f1a",
   "metadata": {},
   "source": [
    "<span style=\"color:red\">**3**</span>. Implement a function (**estimate_variance_1**) that estimates the population variance of a\n",
    "variable using its sample with the formula below. It should take a sample and return an estimation for the variance.\n",
    "<br>\n",
    "<br>\n",
    "$$s^2 = ∑_{i=1}^N (X_i - \\bar{X})^2 / (n-1)$$"
   ]
  },
  {
   "cell_type": "code",
   "execution_count": 33,
   "id": "9d9ccddd",
   "metadata": {},
   "outputs": [
    {
     "name": "stdout",
     "output_type": "stream",
     "text": [
      "1.9187878787878807\n"
     ]
    }
   ],
   "source": [
    "def estimate_variance_1(sample,var):\n",
    "    mean = estimate_mean(sample,var)\n",
    "    variance = 0\n",
    "    for i in range(len(sample)):\n",
    "        variance+=(sample[i][var] - mean) ** 2/(len(sample) - 1)\n",
    "        #print(variance)\n",
    "    return variance\n",
    "    ## write your code here\n",
    "print(estimate_variance_1(sample_array,0))\n",
    "#print(math.sqrt(estimate_variance_1(large_array[0]))\n",
    "      "
   ]
  },
  {
   "cell_type": "markdown",
   "id": "b03578cb",
   "metadata": {},
   "source": [
    "<span style=\"color:red\">**4**</span>. Implement a function (**estimate_variance_2**) that estimates the population variance for a variable using its sample with the formula below. It should take a sample and return an estimation for the variance.\n",
    "<br>\n",
    "<br>\n",
    "$$s^2 = ∑_{i=1}^N (X_i - \\bar{X})^2 / n$$"
   ]
  },
  {
   "cell_type": "code",
   "execution_count": 34,
   "id": "20dc79b9",
   "metadata": {},
   "outputs": [
    {
     "name": "stdout",
     "output_type": "stream",
     "text": [
      "1.899599999999997\n"
     ]
    }
   ],
   "source": [
    "def estimate_variance_2(sample,var):\n",
    "    mean = estimate_mean(sample,var)\n",
    "    variance = 0\n",
    "    for i in range(len(sample)):\n",
    "        variance += (sample[i][var] - mean) ** 2/len(sample)\n",
    "    \n",
    "    return variance\n",
    "    ## write your code here\n",
    "print(estimate_variance_2(sample_array,0))\n",
    "#print(np.std(sample_array))"
   ]
  },
  {
   "cell_type": "markdown",
   "id": "cee352b0",
   "metadata": {},
   "source": [
    "<span style=\"color:red\">**5**</span>. Implement a function (**descriptive_stats**) that takes a population, sample size (n), number of sampling (m), and variable index as input. It returns lists of estimated means and variances of type 1 and type 2 using the previously implemented functions. In other words, it should take a sample of size n from the population m times and create descriptive statistics lists of length m for the variable at the given index."
   ]
  },
  {
   "cell_type": "code",
   "execution_count": null,
   "id": "15c28813",
   "metadata": {},
   "outputs": [],
   "source": [
    "def descriptive_stats(population, sample_size, num_sampling, var):\n",
    "    est_means = []\n",
    "    est_variances_1 = []\n",
    "    est_variances_2 = []\n",
    "    for i in range(num_sampling):\n",
    "        sample = random_sample(large_array, sample_size)\n",
    "        #print(sample)\n",
    "        est_means.append(estimate_mean(sample,var))\n",
    "        est_variances_1.append(estimate_variance_1(sample,var))\n",
    "        est_variances_2.append(estimate_variance_2(sample,var))\n",
    "        print(sample)\n",
    "    \n",
    "    \n",
    "    \n",
    "    return (est_means, est_variances_1, est_variances_2)\n",
    "\n",
    "print(descriptive_stats(sample_array, 100, 4, 0))"
   ]
  },
  {
   "cell_type": "markdown",
   "id": "66e1ce54",
   "metadata": {},
   "source": [
    "<span style=\"color:blue\">**6**</span>. Calculate the theoretical mean and variance of variable A."
   ]
  },
  {
   "cell_type": "markdown",
   "id": "b847a6fb",
   "metadata": {},
   "source": [
    "### Answer it in your report!"
   ]
  },
  {
   "cell_type": "markdown",
   "id": "4d50982a",
   "metadata": {},
   "source": [
    "<span style=\"color:red\">**7**</span>. Call the **descriptive_stats** function for variable A with the sample size as 100 and the number of samples as 10000.\n",
    "<br>\n",
    "<br>\n",
    "* a. In the same figure, plot the histogram of the estimated means, a vertical line at the average of the estimated means, and a vertical line at the theoretical mean.\n",
    "* b. In the same figure, plot the histogram of the estimated variances of type 1, a vertical line at the average of the estimated variances of type 1, and a vertical line at the theoretical variance.\n",
    "* c. In the same figure, plot the histogram of the estimated variances of type 2, a vertical line at the average of the estimated variances of type 2, and a vertical line at the theoretical variance."
   ]
  },
  {
   "cell_type": "code",
   "execution_count": null,
   "id": "d49405f0",
   "metadata": {},
   "outputs": [],
   "source": [
    "## Write your code&plot code here\n",
    "estimated_means, estimated_variances_1, estimated_variances_2 = descriptive_stats(large_array, 100, 10000,0)\n",
    "\n",
    "plt.figure(6)\n",
    "\n",
    "plt.hist(estimated_means)\n",
    "plt.axvline(x=estimate_mean(estimated_means), color='red', linestyle='dashed', label='estimated mean x={}.'.format(estimate_mean(estimated_means)))  \n",
    "plt.axvline(x=1,color = \"black\", linestyle = \"dashed\", label = \"theoritical mean x = 1\")\n",
    "plt.legend()\n",
    "plt.figure(7)\n",
    "plt.hist(estimated_variances_1)\n",
    "plt.axvline(x=estimate_mean(estimated_variances_1), color='red', linestyle='dashed', label='estimated mean x={}.'.format(estimate_mean(estimated_variances_1)))  \n",
    "plt.axvline(x=2,color = \"black\", linestyle = \"dashed\", label = \"theoritical mean x = 2\")\n",
    "plt.legend()\n",
    "plt.figure(8)\n",
    "plt.hist(estimated_variances_2)\n",
    "plt.axvline(x=estimate_mean(estimated_variances_2), color='red', linestyle='dashed', label='estimated mean x={}.'.format(estimate_mean(estimated_variances_2)))  \n",
    "plt.axvline(x=2,color = \"black\", linestyle = \"dashed\", label = \"theoritical mean x = 2\")\n",
    "plt.legend()\n",
    " # Add vertical line at x=3.5\n",
    "\n"
   ]
  },
  {
   "cell_type": "markdown",
   "id": "5e10777e",
   "metadata": {},
   "source": [
    "<span style=\"color:blue\">**8**</span>. Copy your figures from step 7 into your report. What do the figures analyze? What is your conclusion?"
   ]
  },
  {
   "cell_type": "markdown",
   "id": "deb8ce40",
   "metadata": {},
   "source": [
    "### Answer it in your report!"
   ]
  },
  {
   "cell_type": "markdown",
   "id": "11396a6f",
   "metadata": {},
   "source": [
    "<span style=\"color:red\">**9**</span>. Call the **descriptive_stats** function for variable A with the sample size as (100, 200, 300, …,5000) and the number of samples as 500. Compute the variances of the estimated means and the estimated variances of type 1 for each sample size and create the sample size v.s. variance plot for both of them in the same figure."
   ]
  },
  {
   "cell_type": "code",
   "execution_count": null,
   "id": "1aa1d604",
   "metadata": {},
   "outputs": [],
   "source": [
    "variance_of_means = []\n",
    "variance_of_variances = []\n",
    "for i in range(100, 5000, 100):\n",
    "    estimated_means1, estimated_variances_12, estimated_variances_23 = descriptive_stats(large_array, i, 500, 0)\n",
    "    \n",
    "    variance_of_means.append(estimate_variance_1(estimated_means1))\n",
    "    variance_of_variances.append(estimate_variance_1(estimated_variances_12))\n",
    "    print(estimate_variance_1(estimated_means1))\n",
    "    print(estimate_variance_1(estimated_variances_12))\n",
    "    print(i)\n",
    "\n",
    "print(variance_of_means)\n",
    "print(variance_of_variances)\n",
    "    \n",
    "\n"
   ]
  },
  {
   "cell_type": "code",
   "execution_count": null,
   "id": "92695e4e",
   "metadata": {},
   "outputs": [],
   "source": [
    "plt.figure(9)\n",
    "plt.plot(variance_of_means, label = \"variance of means\")\n",
    "plt.plot(variance_of_variances, label = \"variance of variances\")\n",
    "plt.legend()\n",
    "plt.figure(10)\n",
    "plt.plot(variance_of_means)"
   ]
  },
  {
   "cell_type": "markdown",
   "id": "31467ea5",
   "metadata": {},
   "source": [
    "<span style=\"color:blue\">**10**</span>. Copy your figure from step 9 into your report. What does this figure analyze? What is your conclusion?"
   ]
  },
  {
   "cell_type": "markdown",
   "id": "c8e44c3e",
   "metadata": {},
   "source": [
    "### Answer it in your report!"
   ]
  },
  {
   "cell_type": "markdown",
   "id": "ca6324f3",
   "metadata": {},
   "source": [
    "### TASK 3: Parameter Estimation\n",
    "<br>\n",
    "<br>\n",
    "Your third task is to estimate some of the distribution parameters using the Method of Moments and the Method of Maximum Likelihood.\n",
    "<br>\n",
    "<br>\n",
    "Here are the detailed steps:"
   ]
  },
  {
   "cell_type": "markdown",
   "id": "c919136d",
   "metadata": {},
   "source": [
    "<span style=\"color:blue\">**1**</span>. For variable D, search online and find out about the Maximum Likelihood estimation of the normal distribution parameters. Add these findings to your report."
   ]
  },
  {
   "cell_type": "markdown",
   "id": "877921e4",
   "metadata": {},
   "source": [
    "### Answer it in your report!"
   ]
  },
  {
   "cell_type": "markdown",
   "id": "81ecc95b",
   "metadata": {},
   "source": [
    "<span style=\"color:red\">**2**</span>. Implement a function (**estimate_mml_d**) that takes a sample of D and returns the Method of Maximum Likelihood estimations for μ and σ. You can use previously implemented functions."
   ]
  },
  {
   "cell_type": "code",
   "execution_count": 35,
   "id": "88b4c186",
   "metadata": {},
   "outputs": [
    {
     "name": "stdout",
     "output_type": "stream",
     "text": [
      "214.60481247506036 65.89314184085227\n"
     ]
    }
   ],
   "source": [
    "def estimate_mml_d(sample):\n",
    "    mu = estimate_mean(sample,3)\n",
    "    #print(sample)\n",
    "    sigma = math.sqrt(estimate_variance_1(sample,3))\n",
    "    ## write your code here\n",
    "    \n",
    "    return mu, sigma\n",
    "\n",
    "a = random_sample(large_array, 1000)\n",
    "\n",
    "\n",
    "c,d = estimate_mml_d(a)\n",
    "print(c, d)"
   ]
  },
  {
   "cell_type": "code",
   "execution_count": 36,
   "id": "6623d593",
   "metadata": {},
   "outputs": [
    {
     "name": "stdout",
     "output_type": "stream",
     "text": [
      "2.5337961531299045\n"
     ]
    }
   ],
   "source": [
    "\n",
    "def calc_squared_mean(sample,var):\n",
    "    sum1 = 0\n",
    "    for i in range(len(sample)):\n",
    "        sum1+= sample[i][var] ** 2\n",
    "    \n",
    "    return sum1/i\n",
    "\n",
    "b = calc_squared_mean(a,4)\n",
    "print(b)\n",
    "#c = estimate_mean()"
   ]
  },
  {
   "cell_type": "markdown",
   "id": "d7bf5f23",
   "metadata": {},
   "source": [
    "<span style=\"color:blue\">**3**</span>. For variable E, calculate the estimators for its parameters i and j using the Method of Moments. As a result of your calculations, you should reach a point where you have 𝑓(𝑗) = 0 equation such that f is a function with fractional exponents and g(j)=i where g is another\n",
    "function to calculate i using j."
   ]
  },
  {
   "cell_type": "markdown",
   "id": "8ae0fd1b",
   "metadata": {},
   "source": [
    "### Answer it in your report!"
   ]
  },
  {
   "cell_type": "markdown",
   "id": "16344232",
   "metadata": {},
   "source": [
    "<span style=\"color:red\">**4**</span>. Implement a function (**estimate_mom_e**) that takes a sample of E and returns the Method of Moments estimations for i and j. You should use **sympy**’s solver to find j using the following code where you have to replace f(j) with your function expression:\n",
    "```python\n",
    "j = sympy.S('j')\n",
    "sol = sympy.solve(f(j), j)\n",
    "ind = 0\n",
    "while True:\n",
    "    j = float(sol[ind].as_real_imag()[0])\n",
    "    ind += 1\n",
    "    if j >= 0:\n",
    "        break\n",
    "```\n",
    "After this point, you should be able to compute i using g(j)."
   ]
  },
  {
   "cell_type": "code",
   "execution_count": 39,
   "id": "a71308db",
   "metadata": {},
   "outputs": [
    {
     "name": "stdout",
     "output_type": "stream",
     "text": [
      "(0.23, 1.169522129318895)\n"
     ]
    }
   ],
   "source": [
    "import sympy\n",
    "def estimate_mom_e(sample):\n",
    "    mean = estimate_mean(sample,4)\n",
    "    j = sympy.S('j')\n",
    "    i = 0.23 # we found i as 0.23\n",
    "    sol = sympy.solve( (-0.6 * j**(3/2) + 0.66* (j+1)**(3/2)  + 0.229 - mean), j)\n",
    "    ind = 0\n",
    "    while True:\n",
    "        j = float(sol[ind].as_real_imag()[0])\n",
    "        ind += 1\n",
    "        if j >= 0:\n",
    "            break\n",
    "     ## write your code here\n",
    "        \n",
    "    return i, j\n",
    "\n",
    "print(estimate_mom_e(a))"
   ]
  },
  {
   "cell_type": "markdown",
   "id": "e0f922f9",
   "metadata": {},
   "source": [
    "<span style=\"color:blue\">**5**</span>. For variable H, compute the estimator for its parameters k and l using the Method of Maximum Likelihood."
   ]
  },
  {
   "cell_type": "markdown",
   "id": "dfe69721",
   "metadata": {},
   "source": [
    "### Answer it in your report!"
   ]
  },
  {
   "cell_type": "markdown",
   "id": "c1252f79",
   "metadata": {},
   "source": [
    "<span style=\"color:red\">**6**</span>. Implement a function (**estimate_mml_h**) that takes a sample of H and returns the Method of Maximum Likelihood estimations for k."
   ]
  },
  {
   "cell_type": "code",
   "execution_count": 41,
   "id": "b04f03bc",
   "metadata": {},
   "outputs": [
    {
     "name": "stdout",
     "output_type": "stream",
     "text": [
      "296\n",
      "1000\n",
      "(0.296, 0.704)\n"
     ]
    }
   ],
   "source": [
    "def estimate_mml_h(sample):\n",
    "    count_y = 0\n",
    "    count_x = 0\n",
    "    k = 0\n",
    "    for i in range(len(sample)):\n",
    "        if sample[i][5] < 1:\n",
    "            count_y +=1\n",
    "    #for i in range(len(sample)):\n",
    "     #   if sample[i][var] < 1 :\n",
    "      #      count_y += 1\n",
    "        \n",
    "    k = count_y /(len(sample)) \n",
    "    print(count_y)\n",
    "    print(len(sample))\n",
    "    return k, 1-k\n",
    "    \n",
    "print(estimate_mml_h(a))\n"
   ]
  },
  {
   "cell_type": "markdown",
   "id": "72fd01f1",
   "metadata": {},
   "source": [
    "<span style=\"color:red\">**7**</span>. Implement a function (**parameter_estimation**) that takes a population, sample size (n), the number of sampling (m) and patient category as input. Using the previously implemented functions, it samples from <u>a subset of the population where the patient is in the given category</u> and returns lists of estimated parameters of variables D, E, and H."
   ]
  },
  {
   "cell_type": "code",
   "execution_count": 50,
   "id": "7c5b1a48",
   "metadata": {},
   "outputs": [
    {
     "name": "stdout",
     "output_type": "stream",
     "text": [
      "6\n",
      "47\n",
      "2\n",
      "28\n",
      "5\n",
      "37\n",
      "4\n",
      "34\n",
      "3\n",
      "35\n",
      "4\n",
      "42\n",
      "1\n",
      "40\n",
      "6\n",
      "37\n",
      "4\n",
      "33\n",
      "4\n",
      "38\n",
      "([250.42135416925564, 227.45103717461575, 238.72421782808965, 235.59706976116993, 252.8366685955948, 238.0286609635297, 240.4639532684242, 229.29170719122237, 247.65610423491216, 249.29992774883635], [50.438762827596406, 40.33644610837387, 53.36591742268186, 55.310090959483844, 50.50643748386079, 48.96864802828911, 42.190274267411425, 44.922594989197165, 55.78457400050186, 46.389089730136504], [0.23, 0.23, 0.23, 0.23, 0.23, 0.23, 0.23, 0.23, 0.23, 0.23], [1.47135034330018, 1.406188490310252, 1.497462944706934, 1.4553750055467614, 1.5823559067838808, 1.4726677276215034, 1.4768983879128106, 1.479471617511904, 1.492928253654133, 1.3957638834402069], [0.1276595744680851, 0.07142857142857142, 0.13513513513513514, 0.11764705882352941, 0.08571428571428572, 0.09523809523809523, 0.025, 0.16216216216216217, 0.12121212121212122, 0.10526315789473684], [0.8723404255319149, 0.9285714285714286, 0.8648648648648649, 0.8823529411764706, 0.9142857142857143, 0.9047619047619048, 0.975, 0.8378378378378378, 0.8787878787878788, 0.8947368421052632])\n"
     ]
    }
   ],
   "source": [
    "def parameter_estimation(population, sample_size, num_sampling, c):\n",
    "    count = 0\n",
    "    est_dmu = []\n",
    "    est_dsigma = []\n",
    "    est_ei = []\n",
    "    est_ej  = []\n",
    "    est_hk = []\n",
    "    est_hl = []\n",
    "    for i in range(num_sampling):\n",
    "        sample= random_sample(population,sample_size)\n",
    "        a,b,c,d,e,f = estimate_single_params(sample)\n",
    "        est_dmu.append(a)\n",
    "        est_dsigma.append(b)\n",
    "        est_ei.append(c)\n",
    "        est_ej.append(d)\n",
    "        est_hk.append(e)\n",
    "        est_hl.append(f)\n",
    "\n",
    "    return est_dmu, est_dsigma, est_ei, est_ej, est_hk, est_hl\n",
    "\n",
    "## Write your code&plot code here\n",
    "print(parameter_estimation(large_array, 100, 10, \"very-risky\"))\n",
    "    \n",
    "\n"
   ]
  },
  {
   "cell_type": "code",
   "execution_count": 49,
   "id": "d90466c9",
   "metadata": {},
   "outputs": [
    {
     "name": "stdout",
     "output_type": "stream",
     "text": [
      "4\n",
      "44\n",
      "(247.25101668029058, 43.78517747550554, 0.23, 1.4658757751491232, 0.09090909090909091, 0.9090909090909091)\n"
     ]
    }
   ],
   "source": [
    "def estimate_single_params(sample):\n",
    "    est_dmu = 0\n",
    "    est_dsigma = 0\n",
    "    est_ei = 0\n",
    "    est_ej  = 0\n",
    "    est_hk = 0\n",
    "    est_hl = 0\n",
    "    filtered_sample = filter_sample(sample, \"very-risky\")\n",
    "    est_dmu,est_dsigma = estimate_mml_d(filtered_sample)\n",
    "\n",
    "    est_ei, est_ej = estimate_mom_e(filtered_sample)\n",
    "    \n",
    "    est_hk, est_hl= estimate_mml_h(filtered_sample)\n",
    "    return est_dmu, est_dsigma, est_ei, est_ej, est_hk, est_hl\n",
    "sample = random_sample(large_array,100)\n",
    "print(estimate_single_params(sample))\n"
   ]
  },
  {
   "cell_type": "code",
   "execution_count": 51,
   "id": "2413a5aa",
   "metadata": {},
   "outputs": [
    {
     "name": "stdout",
     "output_type": "stream",
     "text": [
      "34\n",
      "4.0762992204064\n"
     ]
    }
   ],
   "source": [
    "\n",
    "\n",
    "\n",
    "sample = random_sample(large_array,100)\n",
    "print(count_risky(sample))\n",
    "\n",
    "def filter_sample(sample, c):\n",
    "        \n",
    "        #filtered_sample = np.empty((rows, 6), dtype = \"object\")\n",
    "    filtered_sample = []\n",
    "    k = 0\n",
    "       \n",
    "    for i in range(len(sample)):\n",
    "        if sample[i][2] == c :\n",
    "            filtered_sample.append(sample[i])\n",
    "            k+=1\n",
    "\n",
    "    return filtered_sample\n",
    "\n",
    "sample = random_sample(large_array, 100)\n",
    "filtered_sample = filter_sample(sample,\"very-risky\")\n",
    "print(filtered_sample[0][1])\n",
    "\n"
   ]
  },
  {
   "cell_type": "markdown",
   "id": "aa62a010",
   "metadata": {},
   "source": [
    "<span style=\"color:red\">**8**</span>. Call the parameter_estimation function for the “very risky” patient category with the sample size as 100 and the number of samples as 1000.\n",
    "* a. In the same figure, plot the histogram of the estimated i parameter of E, a vertical line at the average of the estimations, and a vertical line at the actual i value.\n",
    "* b. In the same figure, plot the histogram of the estimated j parameter of E, a vertical line at the average of the estimations, and a vertical line at the actual i value.\n",
    "* c. In the same figure, plot the histogram of the estimated k parameter of H, a vertical line at the average of the estimations, and a vertical line at the actual i value.\n",
    "* d. In the same figure, plot the histogram of the estimated i parameter of H, a vertical line at the average of the estimations, and a vertical line at the actual i value."
   ]
  },
  {
   "cell_type": "code",
   "execution_count": null,
   "id": "79f9defd",
   "metadata": {},
   "outputs": [
    {
     "name": "stdout",
     "output_type": "stream",
     "text": [
      "3\n",
      "31\n",
      "4\n",
      "39\n",
      "4\n",
      "30\n",
      "3\n",
      "33\n",
      "5\n",
      "38\n",
      "4\n",
      "43\n",
      "1\n",
      "35\n",
      "5\n",
      "33\n",
      "0\n",
      "32\n",
      "8\n",
      "36\n",
      "0\n",
      "43\n",
      "4\n",
      "32\n",
      "5\n",
      "33\n",
      "4\n",
      "47\n",
      "2\n",
      "37\n",
      "4\n",
      "42\n",
      "1\n",
      "46\n",
      "4\n",
      "34\n",
      "5\n",
      "30\n",
      "3\n",
      "43\n",
      "1\n",
      "30\n",
      "4\n",
      "30\n",
      "3\n",
      "33\n",
      "4\n",
      "38\n",
      "3\n",
      "39\n",
      "4\n",
      "32\n",
      "2\n",
      "28\n",
      "4\n",
      "42\n",
      "3\n",
      "33\n",
      "9\n",
      "42\n",
      "1\n",
      "32\n",
      "3\n",
      "34\n",
      "3\n",
      "33\n",
      "2\n",
      "38\n",
      "3\n",
      "33\n",
      "4\n",
      "32\n",
      "1\n",
      "30\n",
      "1\n",
      "30\n",
      "5\n",
      "31\n",
      "7\n",
      "40\n",
      "2\n",
      "35\n",
      "3\n",
      "34\n",
      "5\n",
      "37\n",
      "2\n",
      "29\n",
      "4\n",
      "42\n",
      "1\n",
      "36\n",
      "4\n",
      "32\n",
      "2\n",
      "49\n",
      "1\n",
      "37\n",
      "4\n",
      "28\n",
      "2\n",
      "33\n",
      "4\n",
      "39\n",
      "4\n",
      "46\n",
      "1\n",
      "26\n",
      "3\n",
      "34\n",
      "2\n",
      "41\n",
      "4\n",
      "33\n",
      "4\n",
      "35\n",
      "5\n",
      "39\n",
      "1\n",
      "34\n",
      "3\n",
      "32\n"
     ]
    }
   ],
   "source": [
    "parameter_list = parameter_estimation(large_array, 100,1000,\"very-risky\")\n",
    "print(parameter_list)"
   ]
  },
  {
   "cell_type": "markdown",
   "id": "ba93efbe",
   "metadata": {},
   "source": [
    "<span style=\"color:blue\">**9**</span>. Copy your figures from step 8 into your report."
   ]
  },
  {
   "cell_type": "markdown",
   "id": "d7c39edb",
   "metadata": {},
   "source": [
    "### Answer it in your report!"
   ]
  },
  {
   "cell_type": "markdown",
   "id": "7c10c195",
   "metadata": {},
   "source": [
    "### TASK 4: Confidence intervals\n",
    "<br>\n",
    "<br>\n",
    "Your fourth task is to calculate confidence intervals for the population mean of variable A.\n",
    "<br>\n",
    "<br>\n",
    "Here are the detailed steps:"
   ]
  },
  {
   "cell_type": "markdown",
   "id": "53e99253",
   "metadata": {},
   "source": [
    "<span style=\"color:red\">**1**</span>. Implement a function (**calc_conf_int_mean**) that takes a population, sample size (n), variable index, population standard deviation for that variable, and the confidence level as input. Using a look-up dictionary for quantiles z<sub>0.1</sub>, z<sub>0.05</sub>, z<sub>0.025</sub>, z<sub>0.01</sub>, and z<sub>0.05</sub>, it computes and returns a confidence interval for the population mean of the requested variable."
   ]
  },
  {
   "cell_type": "code",
   "execution_count": null,
   "id": "c57415d0",
   "metadata": {},
   "outputs": [],
   "source": [
    "def calc_conf_int_mean(population, sample_size, var, pop_std, conf_lvl):\n",
    "    conf_int = []\n",
    "    zed_value = 0\n",
    "    if(conf_lvl == 0.99):\n",
    "        zed_value = 2.576\n",
    "    elif(conf_lvl == 0.98):\n",
    "        zed_value = 2.326\n",
    "    elif(conf_lvl == 0.95):\n",
    "        zed_value = 1.960\n",
    "    elif(conf_lvl == 0.90):\n",
    "        zed_value = 1.645\n",
    "    elif(conf_lvl == 0.80):\n",
    "        zed_value = 1.282\n",
    "    mean = estimate_mean(population,var)\n",
    "    a1 = mean - (zed_value * pop_std/math.sqrt(sample_size))\n",
    "    conf_int.append(a1)\n",
    "    a2 = mean + (zed_value * pop_std/math.sqrt(sample_size))\n",
    "    conf_int.append(a2)\n",
    "    ## write your code here\n",
    "    return conf_int\n",
    "\n",
    "\n",
    "sample1 = random_sample(patients_of_1000, 100)\n",
    "#print(estimate_variance_1(sample1))\n",
    "a =  math.sqrt(estimate_variance_1(sample1, 0))\n",
    "c = estimate_variance_1(sample1,0)\n",
    "b = calc_conf_int_mean(sample1, 1000, 0,a, 0.98)\n",
    "print(a)\n",
    "print(b)"
   ]
  },
  {
   "cell_type": "markdown",
   "id": "2af9a9b2",
   "metadata": {},
   "source": [
    "<span style=\"color:red\">**2**</span>. For random variable A and sample size of 1000, compute the confidence intervals for 20 different samples for both confidence levels as 0.98 and 0.8, using the calc_conf_int_mean function.\n",
    "* a. In the same figure, plot the computed confidence intervals for level 0.98, confidence intervals for level 0.8, and a vertical line at the actual population mean for A."
   ]
  },
  {
   "cell_type": "code",
   "execution_count": null,
   "id": "6920dd07",
   "metadata": {},
   "outputs": [],
   "source": [
    "## Write your code&plot code here\n",
    "e1 = []\n",
    "f1 = []\n",
    "for i in range(20):\n",
    "    sample = random_sample(large_array, 1000)\n",
    "    #print(sample)\n",
    "    e1.append(calc_conf_int_mean(sample, 1000,0,math.sqrt(estimate_variance_1(sample)),0.98))\n",
    "    f1.append(calc_conf_int_mean(sample, 1000,0,math.sqrt(estimate_variance_1(sample)),0.80))\n",
    " \n",
    "print(e1)\n",
    "print(f1)\n",
    "\n",
    "plt.figure(9)\n",
    "plt.hist(e1)\n",
    "plt.hist(f1)\n",
    "x = estimate_mean(large_array[0])\n",
    "plt.axvline(x=x, color='black', linestyle='dashed', label = \"estimated mean\")\n",
    "plt.legend()\n",
    "plt.figure(10)\n",
    "plt.hist(e1)\n",
    "plt.figure(11)\n",
    "plt.hist(f1)"
   ]
  },
  {
   "cell_type": "code",
   "execution_count": null,
   "id": "b8759b86",
   "metadata": {},
   "outputs": [],
   "source": [
    "estimate_mean(large_array[0])"
   ]
  },
  {
   "cell_type": "markdown",
   "id": "ba348a31",
   "metadata": {},
   "source": [
    "<span style=\"color:blue\">**3**</span>. Copy your figure from step 2 into your report. How do the confidence intervals change with respect to the confidence levels? Comment on your findings."
   ]
  },
  {
   "cell_type": "markdown",
   "id": "12aa7985",
   "metadata": {},
   "source": [
    "### Answer it in your report!"
   ]
  },
  {
   "cell_type": "markdown",
   "id": "160bf6e3",
   "metadata": {},
   "source": [
    "<span style=\"color:red\">**4**</span>. For random variable A and a confidence level of 0.9, compute the confidence intervals for the sample size of [ 100, 400, …, 4900] using the calc_conf_int_mean function.\n",
    "* a. In the same figure, plot the computed confidence intervals with varying sample sizes and a vertical line at the actual population mean for A."
   ]
  },
  {
   "cell_type": "code",
   "execution_count": null,
   "id": "6e7afb8a",
   "metadata": {},
   "outputs": [],
   "source": [
    "## Write your code&plot code here\n",
    "interval_list = []\n",
    "for i in range(100, 5200, 300):\n",
    "    sample = random_sample(large_array, i)\n",
    "    \n",
    "    interval_list.append(calc_conf_int_mean(sample, i,0,math.sqrt(estimate_variance_1(sample)), 0.90))\n",
    "\n",
    "print(interval_list)\n",
    "\n",
    "plt.figure(12)\n",
    "x = np.arange(100,5200,300)\n",
    "#y = [point[1] for point in data]\n",
    "\n",
    "plt.scatter(x,[point[0] for point in interval_list])\n",
    "plt.scatter(x,[point[1] for point in interval_list])\n",
    "plt.axhline(y = estimate_mean(large_array,0), color = \"black\", label = \"estimated mean of sample x = {}\".format(x))\n"
   ]
  },
  {
   "cell_type": "markdown",
   "id": "4b27aa14",
   "metadata": {},
   "source": [
    "<span style=\"color:blue\">**5**</span>. Copy your figure from step 4 into your report. How do the confidence intervals change with respect to the sample sizes? Comment on your findings."
   ]
  },
  {
   "cell_type": "markdown",
   "id": "3c77851e",
   "metadata": {},
   "source": [
    "### Answer it in your report!"
   ]
  },
  {
   "cell_type": "markdown",
   "id": "d166984d",
   "metadata": {},
   "source": [
    "### TASK 5: Hypothesis testing\n",
    "<br>\n",
    "<br>\n",
    "<span style=\"color:blue\"><b>Your fifth task</b></span> is to do hypothesis testing for the case given below. The answer should only be included in your report.\n",
    "<br>\n",
    "<br>\n",
    "After a year-long national publicity campaign on physical fitness, a hospital embarks on a mission to determine if the campaign has been effective. For this purpose, they survey 500 randomly selected patients and find out that their average exercise frequency is now 1.2. Assuming that the standard deviation of exercise frequency has not changed, does this mean that, at a 3% significance level, the mean number of times a patient engages in physical exercise each week has increased? Explain your steps clearly."
   ]
  },
  {
   "cell_type": "markdown",
   "id": "d1797b9f",
   "metadata": {},
   "source": [
    "### Answer it in your report!"
   ]
  },
  {
   "cell_type": "markdown",
   "id": "444a848a",
   "metadata": {},
   "source": [
    "### TASK 6: Naive Bayes classifier\n",
    "<br>\n",
    "<br>\n",
    "Your last task is to apply and evaluate the Naive Bayes classifier for our population.\n",
    "<br>\n",
    "<br>\n",
    "Here are the detailed steps:"
   ]
  },
  {
   "cell_type": "markdown",
   "id": "2df28ab1",
   "metadata": {},
   "source": [
    "<span style=\"color:red\">**1**</span>. Implement a function (**estimate_parameters**) that takes a population sample, and using the previously implemented functions, it estimates and returns the category-conditioned probability distribution parameters of variables D, E, and H and prior category probabilities (3x2 for D and E, and 3 for C and H, in total 18 parameters)."
   ]
  },
  {
   "cell_type": "code",
   "execution_count": null,
   "id": "f0d7c856",
   "metadata": {},
   "outputs": [],
   "source": [
    "def estimate_parameters(pop_sample):\n",
    "    \n",
    "    ## write your code here\n",
    "    \n",
    "    return est_d0, est_d1, est_d2, est_e0, est_e1, est_e2, est_h0, est_h1, est_h2, p_c0, p_c1, p_c2"
   ]
  },
  {
   "cell_type": "markdown",
   "id": "5eeddf21",
   "metadata": {},
   "source": [
    "<span style=\"color:blue\">**2**</span>. Derive the formula for the posterior probability of each patient category (C) given D, E, and H."
   ]
  },
  {
   "cell_type": "markdown",
   "id": "f633279c",
   "metadata": {},
   "source": [
    "### Answer it in your report!"
   ]
  },
  {
   "cell_type": "markdown",
   "id": "a770559e",
   "metadata": {},
   "source": [
    "<span style=\"color:red\">**3**</span>. Implement a function (**calc_posterior**) that takes the cholesterol level (d), systolic blood pressure (e), and Hemoglobin A1c (HbA1c) level (h) of a patient and the distribution parameters estimated using the estimate_parameters function. Using the Bayes Rule, it computes and returns patient category (C) probabilities."
   ]
  },
  {
   "cell_type": "code",
   "execution_count": null,
   "id": "624a1db3",
   "metadata": {},
   "outputs": [],
   "source": [
    "def calc_posterior(d, e, h, params):\n",
    "    \n",
    "    ## write your code here\n",
    "    \n",
    "    return P0, P1, P2"
   ]
  },
  {
   "cell_type": "markdown",
   "id": "073c86b6",
   "metadata": {},
   "source": [
    "<span style=\"color:red\">**4**</span>. Create a sample of size 10000 for training. Training means that the patient categories are known (labeled) and will be used for estimating the category-conditioned probability distribution parameters."
   ]
  },
  {
   "cell_type": "code",
   "execution_count": null,
   "id": "e7992d82",
   "metadata": {},
   "outputs": [],
   "source": [
    "## Write your code here"
   ]
  },
  {
   "cell_type": "markdown",
   "id": "dc373928",
   "metadata": {},
   "source": [
    "<span style=\"color:red\">**5**</span>. Create a sample size of 1000 for testing. Testing means that the patient categories are to be predicted. They will be determined as the category with the maximum posterior probability."
   ]
  },
  {
   "cell_type": "code",
   "execution_count": null,
   "id": "c93b37a7",
   "metadata": {},
   "outputs": [],
   "source": [
    "## Write your code here"
   ]
  },
  {
   "cell_type": "markdown",
   "id": "9113d0f8",
   "metadata": {},
   "source": [
    "<span style=\"color:red\">**6**</span>. Using the training sample, compute the category-conditioned probability distribution parameters."
   ]
  },
  {
   "cell_type": "code",
   "execution_count": null,
   "id": "65747201",
   "metadata": {},
   "outputs": [],
   "source": [
    "## Write your code here"
   ]
  },
  {
   "cell_type": "markdown",
   "id": "da0834b4",
   "metadata": {},
   "source": [
    "<span style=\"color:red\">**7**</span>. For each patient in the test sample, compute the posterior probability for each category using the corresponding d, e, and h values and the previously estimated distribution parameters. Determine the category of the patient as the one with the highest posterior probability. Compare the estimated and the actual categories to check if the classification was correct. In 1000 tests, compute and print the ratio of the correctly classified patients."
   ]
  },
  {
   "cell_type": "code",
   "execution_count": null,
   "id": "fd163cfd",
   "metadata": {},
   "outputs": [],
   "source": [
    "## Write your code here\n",
    "\n",
    "## ratio = ....\n",
    "print(f\"The ratio of the correctly classified patients are {ratio}%.\")"
   ]
  },
  {
   "cell_type": "code",
   "execution_count": null,
   "id": "21a072b8",
   "metadata": {},
   "outputs": [],
   "source": []
  }
 ],
 "metadata": {
  "kernelspec": {
   "display_name": "Python 3 (ipykernel)",
   "language": "python",
   "name": "python3"
  },
  "language_info": {
   "codemirror_mode": {
    "name": "ipython",
    "version": 3
   },
   "file_extension": ".py",
   "mimetype": "text/x-python",
   "name": "python",
   "nbconvert_exporter": "python",
   "pygments_lexer": "ipython3",
   "version": "3.9.7"
  }
 },
 "nbformat": 4,
 "nbformat_minor": 5
}
